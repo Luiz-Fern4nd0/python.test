{
  "nbformat": 4,
  "nbformat_minor": 0,
  "metadata": {
    "colab": {
      "name": "Exercícios da 3° Aula.ipynb",
      "provenance": [],
      "include_colab_link": true
    },
    "kernelspec": {
      "name": "python3",
      "display_name": "Python 3"
    },
    "language_info": {
      "name": "python"
    }
  },
  "cells": [
    {
      "cell_type": "markdown",
      "metadata": {
        "id": "view-in-github",
        "colab_type": "text"
      },
      "source": [
        "<a href=\"https://colab.research.google.com/github/Luiz-Fern4nd0/python.test/blob/main/Exerc%C3%ADcios_da_3%C2%B0_Aula.ipynb\" target=\"_parent\"><img src=\"https://colab.research.google.com/assets/colab-badge.svg\" alt=\"Open In Colab\"/></a>"
      ]
    },
    {
      "cell_type": "markdown",
      "metadata": {
        "id": "C-80LJnJRtPJ"
      },
      "source": [
        "## EXERCÍCIOS\n",
        "\n",
        "### Exercício 1\n",
        "\n",
        "Crie uma funcão que tome um argumento e imprima o valor e o tipo dele.\n"
      ]
    },
    {
      "cell_type": "code",
      "metadata": {
        "colab": {
          "base_uri": "https://localhost:8080/"
        },
        "id": "mjNuKNSnR0W-",
        "outputId": "c9687ea6-d08f-41b0-c5b2-35d27cba9de3"
      },
      "source": [
        "#Q.1\n",
        "def jabulani(F):\n",
        "  print(F)\n",
        "  print(type(F))\n",
        "\n",
        "jabulani(\"Física\")\n",
        "jabulani(83)\n",
        "jabulani(True)"
      ],
      "execution_count": null,
      "outputs": [
        {
          "output_type": "stream",
          "name": "stdout",
          "text": [
            "Física\n",
            "<class 'str'>\n",
            "83\n",
            "<class 'int'>\n",
            "True\n",
            "<class 'bool'>\n"
          ]
        }
      ]
    },
    {
      "cell_type": "markdown",
      "metadata": {
        "id": "q873qTYLARTN"
      },
      "source": [
        "### Exercício 2\n",
        "\n",
        "Crie uma função que calcule e imprima velocidade média de um objeto a partir de uma posição inicial, a final e o tempo transcorrido para um objeto em MRU. Também crie uma funcão que calcule e imprima a velocidade de um objeto a partir da aceleração constante e o tempo (MRUA) (p.ex. queda livre)."
      ]
    },
    {
      "cell_type": "code",
      "metadata": {
        "colab": {
          "base_uri": "https://localhost:8080/"
        },
        "id": "c48qU25bWYQy",
        "outputId": "e32ac6dd-4832-4914-a3b6-ef7e81121a14"
      },
      "source": [
        "#Q.2 -a\n",
        "def corrida(sf,si,t):\n",
        "  v = ((sf - si)/t)\n",
        "  print(v, \"m/s\")\n",
        "  print(type(v))\n",
        "\n",
        "corrida(40,38,2)"
      ],
      "execution_count": null,
      "outputs": [
        {
          "output_type": "stream",
          "name": "stdout",
          "text": [
            "1.0 m/s\n",
            "<class 'float'>\n"
          ]
        }
      ]
    },
    {
      "cell_type": "code",
      "metadata": {
        "colab": {
          "base_uri": "https://localhost:8080/"
        },
        "id": "Wn7Wl2SYZC2y",
        "outputId": "526169ef-7562-47e3-fea1-1afd5ae77e7e"
      },
      "source": [
        "#Q.2 -b\n",
        "def velocidade2(a,t):\n",
        "# rearrumando a equação : a = v/t , temos: v = a*t\n",
        "  v = a*t\n",
        "  print(v, 'm/s')\n",
        "  print(type(v))\n",
        "\n",
        "velocidade2(38,1)"
      ],
      "execution_count": null,
      "outputs": [
        {
          "output_type": "stream",
          "name": "stdout",
          "text": [
            "38 m/s\n",
            "<class 'int'>\n"
          ]
        }
      ]
    },
    {
      "cell_type": "markdown",
      "metadata": {
        "id": "V1sschbzAF56"
      },
      "source": [
        "### Exercício 3\n",
        "\n",
        "Crie uma funcão para calcular o ángulo zenital do sol (da semana passada) tomando como argumento as medidas da altura e o comprimento da sombra."
      ]
    },
    {
      "cell_type": "code",
      "metadata": {
        "colab": {
          "base_uri": "https://localhost:8080/"
        },
        "id": "sLMSsDL6acQJ",
        "outputId": "840a9262-fab4-4ba2-ee03-88259e1c183c"
      },
      "source": [
        "#Q.3 -\n",
        "def zenite(ca,co):\n",
        "  import math\n",
        "  atg = math.atan(co/ca)\n",
        "  print(math.degrees(atg))\n",
        "  print(type(atg))\n",
        "\n",
        "zenite(5,5)"
      ],
      "execution_count": null,
      "outputs": [
        {
          "output_type": "stream",
          "name": "stdout",
          "text": [
            "45.0\n",
            "<class 'float'>\n"
          ]
        }
      ]
    },
    {
      "cell_type": "markdown",
      "metadata": {
        "id": "tEw_Uu7fJsKP"
      },
      "source": [
        "João: Deixei dados de outro lugar, minha pergunta é será que ela vai considerar ao ver que extrair um desenvolvimento de outro lugar utilizando aqui novamente?\n",
        "\n",
        "Cachaça: Se foi feito por vc acho que não tem problema."
      ]
    },
    {
      "cell_type": "markdown",
      "metadata": {
        "id": "t0kgbuQycxNM"
      },
      "source": [
        "### Exercício 4\n",
        "\n",
        "Crie uma função que faça a conversão de uma medida inicialmente em milhas para m, e outra para o inverso; uma de horas para segundos, e o inverso. Utilize estas funções para resolver novamente o primeiro exercício da semana passada (da corrida). Se uma pessoa demora 30 minutos em 4 milhas, qual velocidade media em km/h ? e o tempo medio por kilometro?"
      ]
    },
    {
      "cell_type": "code",
      "metadata": {
        "colab": {
          "base_uri": "https://localhost:8080/"
        },
        "id": "AB7II5HfcgYn",
        "outputId": "14123a6a-1c03-47bc-c047-19b7f1294e7b"
      },
      "source": [
        "'''\n",
        "#Dados da distância: d = 10km\n",
        "d = 10/1.61\n",
        "print ('{:.3f} milhas'.format(d))\n",
        "#Dados do tempo: t = 43 min. e 30 s\n",
        "t = ((43*60 + 30)/3600)\n",
        "print (t, ' hora')\n",
        "\n",
        "v = d / t\n",
        "print ('{:.3f} milhas/hora'.format(v))\n",
        "\n",
        "#b - tempo por milha\n",
        "t_m = t / d\n",
        "print ('{:.3f} hora/milha'.format(t_m))\n",
        "'''\n",
        "#Q.4 - a) De Quilômetro para Milhas\n",
        "def conversor1(km):\n",
        "     mi=1.61*km\n",
        "     return mi #\"em milhas\"\n",
        "     print(type(mi))\n",
        "\n",
        "conversor1(10)"
      ],
      "execution_count": null,
      "outputs": [
        {
          "output_type": "execute_result",
          "data": {
            "text/plain": [
              "16.1"
            ]
          },
          "metadata": {},
          "execution_count": 5
        }
      ]
    },
    {
      "cell_type": "code",
      "metadata": {
        "colab": {
          "base_uri": "https://localhost:8080/"
        },
        "id": "pIORpz2feb-u",
        "outputId": "79107729-a1cd-4ddc-e9c8-fc13d84ddaca"
      },
      "source": [
        "#Q.4 - b) De Milhas para Quilômetro\n",
        "def conversor2(mi):\n",
        "  km = mi/1.61\n",
        "  return km #\"em kilômetros\")\n",
        "  print(type(km))\n",
        "\n",
        "conversor2(10)"
      ],
      "execution_count": null,
      "outputs": [
        {
          "output_type": "execute_result",
          "data": {
            "text/plain": [
              "6.211180124223602"
            ]
          },
          "metadata": {},
          "execution_count": 6
        }
      ]
    },
    {
      "cell_type": "code",
      "metadata": {
        "colab": {
          "base_uri": "https://localhost:8080/"
        },
        "id": "FEFnZ-TAjS-_",
        "outputId": "6208595b-882e-4921-d27c-174ce764fea0"
      },
      "source": [
        "#Q.4 - c) De segundo para hora\n",
        "def hora1(s):\n",
        "  h = s/3600\n",
        "  return h #\"em horas\")\n",
        "  print(type(h))\n",
        "\n",
        "hora1(3600)"
      ],
      "execution_count": null,
      "outputs": [
        {
          "output_type": "execute_result",
          "data": {
            "text/plain": [
              "1.0"
            ]
          },
          "metadata": {},
          "execution_count": 3
        }
      ]
    },
    {
      "cell_type": "code",
      "metadata": {
        "colab": {
          "base_uri": "https://localhost:8080/"
        },
        "id": "eQ-4Klt7lvLD",
        "outputId": "bed6c16a-8680-4833-e957-5e5663115b1a"
      },
      "source": [
        "#Q.4 - d) De horas para segundo\n",
        "def hora2(h):\n",
        "  s = h*3600\n",
        "  return s #\"em segundos\")\n",
        "  print(type(s))\n",
        "\n",
        "hora2(1)"
      ],
      "execution_count": null,
      "outputs": [
        {
          "output_type": "execute_result",
          "data": {
            "text/plain": [
              "3600"
            ]
          },
          "metadata": {},
          "execution_count": 7
        }
      ]
    },
    {
      "cell_type": "code",
      "metadata": {
        "colab": {
          "base_uri": "https://localhost:8080/"
        },
        "id": "shv_XbW9pej4",
        "outputId": "dd954cf2-1535-4df5-caff-85d341ec1f2b"
      },
      "source": [
        "#Q.4 - e) Aplicando os seguintes dados:Se você fizer uma corrida de 10 km em 43 minutos e 30 segundos.\n",
        "def exercício1(t,s): #Velocidade médio é:\n",
        "  v = s/t\n",
        "  print('a velocidade média é',v, 'km/h')\n",
        "\n",
        "exercício1(hora1((43*60+30)),conversor1(10))\n",
        "\n",
        "def exercício2(t,s): #Tempo médio é:\n",
        "  t_m = t / s\n",
        "  print('o tempo médio é', t_m, 'horas')\n",
        "\n",
        "exercício2(hora1(43*60+30),conversor1(10))"
      ],
      "execution_count": null,
      "outputs": [
        {
          "output_type": "stream",
          "name": "stdout",
          "text": [
            "a velocidade média é 22.206896551724142 km/h\n",
            "o tempo médio é 0.04503105590062111 horas\n"
          ]
        }
      ]
    },
    {
      "cell_type": "code",
      "metadata": {
        "colab": {
          "base_uri": "https://localhost:8080/"
        },
        "id": "pPlca5SvqbVQ",
        "outputId": "3a634947-ee74-4e22-b821-eda2d142daac"
      },
      "source": [
        "#Q.4 - f) Se uma pessoa demora 30 minutos em 4 milhas, qual velocidade media em km/h ? e o tempo medio por kilometro?\n",
        "def exerc_1(s,t): #velocidade média em km/h\n",
        "  v = s/t\n",
        "  print('A velocidade média é {:.3f} km/h.'.format(v)) \n",
        "\n",
        "#Converter de minutos para hora:\n",
        "def minuto_para_hora(min):\n",
        "  h = min/60\n",
        "  return h\n",
        "\n",
        "exerc_1(conversor2(4),(minuto_para_hora(30)))\n",
        "\n",
        "def exerc_2(t,s): #tempo médio em h\n",
        "  t_m = t / s\n",
        "  print('O tempo médio é', t_m, 'h.')\n",
        "\n",
        "exerc_2(minuto_para_hora(30),conversor1(4))"
      ],
      "execution_count": null,
      "outputs": [
        {
          "output_type": "stream",
          "name": "stdout",
          "text": [
            "A velocidade média é 4.969 km/h.\n",
            "O tempo médio é 0.07763975155279502 h.\n"
          ]
        }
      ]
    },
    {
      "cell_type": "markdown",
      "metadata": {
        "id": "BqWbubGYDCWY"
      },
      "source": [
        "###Exercício 5.\n",
        "\n",
        "Crie funções para calcular os outros exemplos das aulas anteriores: IMC, volume de uma esfera, distancia entre pontos de máximos de difração. Decida quais serão os argumentos e o valor retornado."
      ]
    },
    {
      "cell_type": "code",
      "metadata": {
        "id": "q7zOllR2Q2Ah",
        "colab": {
          "base_uri": "https://localhost:8080/"
        },
        "outputId": "ecbf4719-3187-49a7-f509-7b45c320527f"
      },
      "source": [
        "#Q.5 - a)IMC (kg/m²), resolvendo o exercício da AULA1 -> DADOS: 70 cm e 11 Kg\n",
        "\n",
        "def imc(massa, altura):\n",
        "    imc = (massa/(altura**2))\n",
        "    print('Seu IMC é {:.2f} kg/m².'.format(imc))\n",
        "\n",
        "imc(11,0.70)\n",
        "\n",
        "#Porém precisamos converter os centímetros para metros. Logo, temos:\n",
        "\n",
        "def cm_para_m(centimetros):\n",
        "    metros = centimetros/100\n",
        "    print('Sua altura é {:.2f} m.'.format(metros))\n",
        "\n",
        "cm_para_m(70)"
      ],
      "execution_count": null,
      "outputs": [
        {
          "output_type": "stream",
          "name": "stdout",
          "text": [
            "Seu IMC é 22.45 kg/m².\n",
            "Sua altura é 0.70 m.\n"
          ]
        }
      ]
    },
    {
      "cell_type": "code",
      "metadata": {
        "colab": {
          "base_uri": "https://localhost:8080/"
        },
        "id": "as0WFtNV6VvA",
        "outputId": "d3ef3ac4-0f05-4b62-91cd-30bdada6326e"
      },
      "source": [
        "#Q.5 - b)volume de uma esfera.\n",
        "\n",
        "def volume_esfera(r):\n",
        "    import math\n",
        "    vol_esf = ((4 / 3) * (math.pi) * (r ** 3))\n",
        "    print('O volume da esfera é {:.2f} m³.'.format(vol_esf))\n",
        "\n",
        "\n",
        "volume_esfera(0.70)"
      ],
      "execution_count": null,
      "outputs": [
        {
          "output_type": "stream",
          "name": "stdout",
          "text": [
            "O volume da esfera é 1.44 m³.\n"
          ]
        }
      ]
    },
    {
      "cell_type": "code",
      "metadata": {
        "id": "107kIv0l7y1T",
        "colab": {
          "base_uri": "https://localhost:8080/"
        },
        "outputId": "bbe6ff05-cf84-4b72-b170-14cd2d4bfaae"
      },
      "source": [
        "#Q.5 - c)distância entre pontos de máximos de difração.\n",
        "\n",
        "# A fórmula a ser usada será: Y = ((((10*lambda)**(-6))*distância) / (espaço entre fendas)), portanto temos:\n",
        "\n",
        "def distancia(x1,x2,y1,y2):\n",
        "    import math\n",
        "    d = (math.sqrt((x2-x1)**2+(y2-y1)**2))\n",
        "    print('A distância é {:.3f} nm.'.format(d))\n",
        "\n",
        "distancia(3,4,4,3)"
      ],
      "execution_count": null,
      "outputs": [
        {
          "output_type": "stream",
          "name": "stdout",
          "text": [
            "A distância é 1.414 nm.\n"
          ]
        }
      ]
    },
    {
      "cell_type": "code",
      "metadata": {
        "colab": {
          "base_uri": "https://localhost:8080/"
        },
        "id": "iYdbh7MRBBlT",
        "outputId": "6a4ed675-04a3-44fa-9882-4ffe7d0f9eb1"
      },
      "source": [
        "def entre_fendas(e1,e2):\n",
        "    import math\n",
        "    e = (e2-e1)\n",
        "    print(e,'em metros.')\n",
        "\n",
        "entre_fendas(6,8)"
      ],
      "execution_count": null,
      "outputs": [
        {
          "output_type": "stream",
          "name": "stdout",
          "text": [
            "2 em metros.\n"
          ]
        }
      ]
    },
    {
      "cell_type": "code",
      "metadata": {
        "colab": {
          "base_uri": "https://localhost:8080/"
        },
        "id": "n_-14KSoBJ01",
        "outputId": "74ef4c96-6618-400e-f98a-f2bf09d3dafd"
      },
      "source": [
        "def com_d_ond(v,f):\n",
        "    import math\n",
        "    l = (v / f)\n",
        "    print(l,'Hz')\n",
        "\n",
        "com_d_ond(7,5)"
      ],
      "execution_count": null,
      "outputs": [
        {
          "output_type": "stream",
          "name": "stdout",
          "text": [
            "1.4 Hz\n"
          ]
        }
      ]
    },
    {
      "cell_type": "code",
      "metadata": {
        "colab": {
          "base_uri": "https://localhost:8080/"
        },
        "id": "MSO4IDcvB9-y",
        "outputId": "57bcb16a-7704-4b00-f0d4-bee7c7427442"
      },
      "source": [
        "#Jogando na fórmula apresentada, temos:   Y = ((((10*lambda)**(-6))*distância) / (espaço entre fendas))\n",
        "def difracao(com_d_ond,distancia,entre_fendas):\n",
        "    import math\n",
        "    Y = (((((com_d_ond)*(10)**(-6))*distancia)) / (entre_fendas))\n",
        "    print('A difração é {:.7f} m.'.format(Y)) \n",
        "\n",
        "difracao(1.414,2,1.4)"
      ],
      "execution_count": null,
      "outputs": [
        {
          "output_type": "stream",
          "name": "stdout",
          "text": [
            "A difração é 0.0000020 m.\n"
          ]
        }
      ]
    }
  ]
}