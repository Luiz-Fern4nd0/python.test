{
  "nbformat": 4,
  "nbformat_minor": 0,
  "metadata": {
    "colab": {
      "name": "Exercícios da 1°Aula.ipynb",
      "provenance": [],
      "authorship_tag": "ABX9TyOZd9Y1oQ6Q3xvU7L+FChWS",
      "include_colab_link": true
    },
    "kernelspec": {
      "name": "python3",
      "display_name": "Python 3"
    },
    "language_info": {
      "name": "python"
    }
  },
  "cells": [
    {
      "cell_type": "markdown",
      "metadata": {
        "id": "view-in-github",
        "colab_type": "text"
      },
      "source": [
        "<a href=\"https://colab.research.google.com/github/Luiz-Fern4nd0/python.test/blob/main/Exerc%C3%ADcios_da_1%C2%B0Aula.ipynb\" target=\"_parent\"><img src=\"https://colab.research.google.com/assets/colab-badge.svg\" alt=\"Open In Colab\"/></a>"
      ]
    },
    {
      "cell_type": "markdown",
      "metadata": {
        "id": "yPTVBRTnHY5q"
      },
      "source": [
        "Q.1 - Se você fizer uma corrida de 10 quilômetros em 43 minutos e 30 segundos, qual será seu tempo médio por milha? Qual é a sua velocidade média em milhas por hora? (Dica: há 1,61 quilômetros em uma milha)."
      ]
    },
    {
      "cell_type": "code",
      "metadata": {
        "colab": {
          "base_uri": "https://localhost:8080/"
        },
        "id": "4wNOhqtjGylS",
        "outputId": "0fe026fb-60be-4e7e-e468-0a905ce29fbb"
      },
      "source": [
        "#Dados da distância: d = 10km\n",
        "d = 10*1.61\n",
        "print ('{:.3f} milhas'.format(d))\n",
        "#Dados do tempo: t = 43 min. e 30 s\n",
        "t = ((43*60 + 30)/3600)\n",
        "print (t, ' hora')\n",
        "\n",
        "v = d / t\n",
        "print ('{:.3f} milhas/hora'.format(v))\n",
        "\n",
        "#b - tempo por milha\n",
        "t_m = t / d\n",
        "print ('{:.3f} hora/milha'.format(t_m))"
      ],
      "execution_count": 1,
      "outputs": [
        {
          "output_type": "stream",
          "name": "stdout",
          "text": [
            "16.100 milhas\n",
            "0.725  hora\n",
            "22.207 milhas/hora\n",
            "0.045 hora/milha\n"
          ]
        }
      ]
    },
    {
      "cell_type": "markdown",
      "metadata": {
        "id": "_NQfWohVLMZR"
      },
      "source": [
        "Q.2 - Desde sua varanda você escuta o som do primeiro fogo artificial do reveillon 3 segundos depois de ver a luz, qual a distância? (o som tem velocidade 343 m/s e a luz 3 $\\times$ 10$^8$ m/s)."
      ]
    },
    {
      "cell_type": "code",
      "metadata": {
        "colab": {
          "base_uri": "https://localhost:8080/"
        },
        "id": "FRKBWNbdLSYy",
        "outputId": "8b4d0cfd-8ae9-4865-c12f-059b179e9e4f"
      },
      "source": [
        "t= 3 #Dados: tempo(s)\n",
        "som= 343 #Dados: velocidade do som(m/s)\n",
        "luz= 3*10**8 #Dados: velocidade da luz(m/s)\n",
        "d=t*som/(1-som/luz)\n",
        "print('{:.3f} m'.format(d))\n"
      ],
      "execution_count": null,
      "outputs": [
        {
          "output_type": "stream",
          "name": "stdout",
          "text": [
            "1029.001 m\n"
          ]
        }
      ]
    },
    {
      "cell_type": "markdown",
      "metadata": {
        "id": "40x4NYDXOfzP"
      },
      "source": [
        "Q.3 - Ache os zeros da função:\n",
        "\n",
        "y = 3 $\\cdot$ x$^2$ - 4 $\\cdot$ x - 10 "
      ]
    },
    {
      "cell_type": "code",
      "metadata": {
        "colab": {
          "base_uri": "https://localhost:8080/"
        },
        "id": "VnhoZeLSO4od",
        "outputId": "57e23f24-3885-4462-e735-f1cead00ebc5"
      },
      "source": [
        "a = 3\n",
        "b = - 4\n",
        "c = - 10\n",
        "\n",
        "x1 = (-b + (b**2 - 4*a*c)**0.5)/(2*a)\n",
        "print(x1)\n",
        "x2 = (-b - (b**2 - 4*a*c)**0.5)/(2*a)\n",
        "print(x2)\n",
        "#print(x1,'\\n',x2)"
      ],
      "execution_count": null,
      "outputs": [
        {
          "output_type": "stream",
          "name": "stdout",
          "text": [
            "2.610317298281767\n",
            "-1.2769839649484336\n"
          ]
        }
      ]
    },
    {
      "cell_type": "markdown",
      "metadata": {
        "id": "D8g_mxnFTSIs"
      },
      "source": [
        "Q.4 - Se, ao meio dia, a sombra de um poste de 5 m de altura tem apenas 50 cm de comprimento no chão, qual o ângulo zenital do sol?"
      ]
    },
    {
      "cell_type": "code",
      "metadata": {
        "colab": {
          "base_uri": "https://localhost:8080/"
        },
        "id": "MOc4ZjvIVe-k",
        "outputId": "10966c5a-af3a-4fdf-e8d2-0b063e502116"
      },
      "source": [
        "import math\n",
        "co = 0.5 #DADOS: Sombra do poste(m) -> 50 cm para 0,5 m\n",
        "ca = 5 #DADOS: Altura(m) \n",
        "\n",
        "tg =math.degrees(math.atan(co/ca))\n",
        "print('{:.3f}°'.format(tg)) "
      ],
      "execution_count": null,
      "outputs": [
        {
          "output_type": "stream",
          "name": "stdout",
          "text": [
            "5.711°\n"
          ]
        }
      ]
    },
    {
      "cell_type": "markdown",
      "metadata": {
        "id": "dXSiiIDrZrT-"
      },
      "source": [
        "Calcule o seu IMC: $IMC = \\dfrac{M}{A^2}$(com a massa em kg e a altura em metros). Um valor saudável estara --em geral-- entre 20 $\\approx$ 25. Um bebê de 6 meses \"gorducho\" tem 70 cm de \"comprimento\" e 11 kg de massa, qual o IMC dele?\n"
      ]
    },
    {
      "cell_type": "code",
      "metadata": {
        "colab": {
          "base_uri": "https://localhost:8080/"
        },
        "id": "wCMCeMfwagbM",
        "outputId": "280db896-758d-495b-b275-b12f4e01f4ea"
      },
      "source": [
        "M = 11 #Dados Massa(kg) \n",
        "A = 0.7 #Dados altura (cm) -> cm para m fica: 0,7\n",
        "\n",
        "IMC = M/A**2\n",
        "print('{:.3f} kg/m²'.format(IMC))"
      ],
      "execution_count": null,
      "outputs": [
        {
          "output_type": "stream",
          "name": "stdout",
          "text": [
            "22.449 kg/m²\n"
          ]
        }
      ]
    },
    {
      "cell_type": "markdown",
      "metadata": {
        "id": "TDUzEfXYbg5R"
      },
      "source": [
        "Calcule a velocidade final de um objeto em queda livre a partir de 3 metros de altura (sem resistencia do ar). Calcule o tempo que esse objeto demora para cair."
      ]
    },
    {
      "cell_type": "code",
      "metadata": {
        "colab": {
          "base_uri": "https://localhost:8080/"
        },
        "id": "9gO2btSQbmWd",
        "outputId": "8bba5cdd-cc7d-400d-f674-c2a9d3ba7afb"
      },
      "source": [
        "import math\n",
        "d = 3 #Dados: (m)\n",
        "g = 10 #Dados: gravidade\n",
        "\n",
        "vf = math.sqrt(0 + 2*(g*d))\n",
        "print('{:.3f} m/s'.format(vf))\n",
        "\n",
        "#Para o tempo, temos:\n",
        "t = math.sqrt((2*d)/g)\n",
        "print('{:.3f} s'.format(t))"
      ],
      "execution_count": null,
      "outputs": [
        {
          "output_type": "stream",
          "name": "stdout",
          "text": [
            "7.746 m/s\n",
            "0.775 s\n"
          ]
        }
      ]
    }
  ]
}