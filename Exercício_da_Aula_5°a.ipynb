{
  "nbformat": 4,
  "nbformat_minor": 0,
  "metadata": {
    "colab": {
      "name": "Exercício da Aula 5°a.ipynb",
      "provenance": [],
      "authorship_tag": "ABX9TyMDOCq4SAZH9vMg60R5BuXF",
      "include_colab_link": true
    },
    "kernelspec": {
      "name": "python3",
      "display_name": "Python 3"
    },
    "language_info": {
      "name": "python"
    }
  },
  "cells": [
    {
      "cell_type": "markdown",
      "metadata": {
        "id": "view-in-github",
        "colab_type": "text"
      },
      "source": [
        "<a href=\"https://colab.research.google.com/github/Luiz-Fern4nd0/python.test/blob/main/Exerc%C3%ADcio_da_Aula_5%C2%B0a.ipynb\" target=\"_parent\"><img src=\"https://colab.research.google.com/assets/colab-badge.svg\" alt=\"Open In Colab\"/></a>"
      ]
    },
    {
      "cell_type": "markdown",
      "metadata": {
        "id": "MU3oSvcqm-hs"
      },
      "source": [
        "### Exercícios:\n",
        "1. Modifique o programa da tartaruga (primeiro exemplo) para que, antes de criar a janela, ele solicite que o usuário insira a cor de fundo desejada. Ele deve armazenar as respostas do usuário em uma variável e modificar a cor da janela de acordo com os desejos do usuário. \n",
        "   * ***Dicas***: faça uso da função ***input***, built-in do python\n",
        "   * você pode encontrar uma lista de nomes de cores permitidos em http://www.tcl.tk/man/tcl8.4/TkCmd/colors.htm. Inclui alguns bem incomuns, como “peach puff” e “HotPink” ”***"
      ]
    },
    {
      "cell_type": "code",
      "metadata": {
        "colab": {
          "base_uri": "https://localhost:8080/",
          "height": 374
        },
        "id": "QZZPayNEnkvV",
        "outputId": "cd3da9f5-83e1-48a6-b0fd-b3a6bae795ed"
      },
      "source": [
        "import turtle\n",
        "jn = turtle.Screen()\n",
        "jn.bgcolor(str(input('Escreva uma cor de sua preferência: ')))      # Definir a cor de fundo da janela\n",
        "\n",
        "teca = turtle.Turtle()\n",
        "teca.color(\"blue\")            # Dizer à Teca para mudar sua cor (atributo)\n",
        "teca.pensize(3)               # Diga a Teca para ajustar a largura da caneta (atributo)\n",
        "\n",
        "teca.forward(50)\n",
        "teca.left(120)\n",
        "teca.forward(50)\n",
        "\n",
        "jn.mainloop() "
      ],
      "execution_count": null,
      "outputs": [
        {
          "output_type": "error",
          "ename": "TclError",
          "evalue": "ignored",
          "traceback": [
            "\u001b[0;31m---------------------------------------------------------------------------\u001b[0m",
            "\u001b[0;31mTclError\u001b[0m                                  Traceback (most recent call last)",
            "\u001b[0;32m<ipython-input-1-a2127a412569>\u001b[0m in \u001b[0;36m<module>\u001b[0;34m()\u001b[0m\n\u001b[1;32m      1\u001b[0m \u001b[0;32mimport\u001b[0m \u001b[0mturtle\u001b[0m\u001b[0;34m\u001b[0m\u001b[0;34m\u001b[0m\u001b[0m\n\u001b[0;32m----> 2\u001b[0;31m \u001b[0mjn\u001b[0m \u001b[0;34m=\u001b[0m \u001b[0mturtle\u001b[0m\u001b[0;34m.\u001b[0m\u001b[0mScreen\u001b[0m\u001b[0;34m(\u001b[0m\u001b[0;34m)\u001b[0m\u001b[0;34m\u001b[0m\u001b[0;34m\u001b[0m\u001b[0m\n\u001b[0m\u001b[1;32m      3\u001b[0m \u001b[0mjn\u001b[0m\u001b[0;34m.\u001b[0m\u001b[0mbgcolor\u001b[0m\u001b[0;34m(\u001b[0m\u001b[0mstr\u001b[0m\u001b[0;34m(\u001b[0m\u001b[0minput\u001b[0m\u001b[0;34m(\u001b[0m\u001b[0;34m'Escreva uma cor de sua preferência: '\u001b[0m\u001b[0;34m)\u001b[0m\u001b[0;34m)\u001b[0m\u001b[0;34m)\u001b[0m      \u001b[0;31m# Definir a cor de fundo da janela\u001b[0m\u001b[0;34m\u001b[0m\u001b[0;34m\u001b[0m\u001b[0m\n\u001b[1;32m      4\u001b[0m \u001b[0;34m\u001b[0m\u001b[0m\n\u001b[1;32m      5\u001b[0m \u001b[0mteca\u001b[0m \u001b[0;34m=\u001b[0m \u001b[0mturtle\u001b[0m\u001b[0;34m.\u001b[0m\u001b[0mTurtle\u001b[0m\u001b[0;34m(\u001b[0m\u001b[0;34m)\u001b[0m\u001b[0;34m\u001b[0m\u001b[0;34m\u001b[0m\u001b[0m\n",
            "\u001b[0;32m/usr/lib/python3.7/turtle.py\u001b[0m in \u001b[0;36mScreen\u001b[0;34m()\u001b[0m\n\u001b[1;32m   3660\u001b[0m     else return the existing one.\"\"\"\n\u001b[1;32m   3661\u001b[0m     \u001b[0;32mif\u001b[0m \u001b[0mTurtle\u001b[0m\u001b[0;34m.\u001b[0m\u001b[0m_screen\u001b[0m \u001b[0;32mis\u001b[0m \u001b[0;32mNone\u001b[0m\u001b[0;34m:\u001b[0m\u001b[0;34m\u001b[0m\u001b[0;34m\u001b[0m\u001b[0m\n\u001b[0;32m-> 3662\u001b[0;31m         \u001b[0mTurtle\u001b[0m\u001b[0;34m.\u001b[0m\u001b[0m_screen\u001b[0m \u001b[0;34m=\u001b[0m \u001b[0m_Screen\u001b[0m\u001b[0;34m(\u001b[0m\u001b[0;34m)\u001b[0m\u001b[0;34m\u001b[0m\u001b[0;34m\u001b[0m\u001b[0m\n\u001b[0m\u001b[1;32m   3663\u001b[0m     \u001b[0;32mreturn\u001b[0m \u001b[0mTurtle\u001b[0m\u001b[0;34m.\u001b[0m\u001b[0m_screen\u001b[0m\u001b[0;34m\u001b[0m\u001b[0;34m\u001b[0m\u001b[0m\n\u001b[1;32m   3664\u001b[0m \u001b[0;34m\u001b[0m\u001b[0m\n",
            "\u001b[0;32m/usr/lib/python3.7/turtle.py\u001b[0m in \u001b[0;36m__init__\u001b[0;34m(self)\u001b[0m\n\u001b[1;32m   3676\u001b[0m         \u001b[0;31m# preserved (perhaps by passing it as an optional parameter)\u001b[0m\u001b[0;34m\u001b[0m\u001b[0;34m\u001b[0m\u001b[0;34m\u001b[0m\u001b[0m\n\u001b[1;32m   3677\u001b[0m         \u001b[0;32mif\u001b[0m \u001b[0m_Screen\u001b[0m\u001b[0;34m.\u001b[0m\u001b[0m_root\u001b[0m \u001b[0;32mis\u001b[0m \u001b[0;32mNone\u001b[0m\u001b[0;34m:\u001b[0m\u001b[0;34m\u001b[0m\u001b[0;34m\u001b[0m\u001b[0m\n\u001b[0;32m-> 3678\u001b[0;31m             \u001b[0m_Screen\u001b[0m\u001b[0;34m.\u001b[0m\u001b[0m_root\u001b[0m \u001b[0;34m=\u001b[0m \u001b[0mself\u001b[0m\u001b[0;34m.\u001b[0m\u001b[0m_root\u001b[0m \u001b[0;34m=\u001b[0m \u001b[0m_Root\u001b[0m\u001b[0;34m(\u001b[0m\u001b[0;34m)\u001b[0m\u001b[0;34m\u001b[0m\u001b[0;34m\u001b[0m\u001b[0m\n\u001b[0m\u001b[1;32m   3679\u001b[0m             \u001b[0mself\u001b[0m\u001b[0;34m.\u001b[0m\u001b[0m_root\u001b[0m\u001b[0;34m.\u001b[0m\u001b[0mtitle\u001b[0m\u001b[0;34m(\u001b[0m\u001b[0m_Screen\u001b[0m\u001b[0;34m.\u001b[0m\u001b[0m_title\u001b[0m\u001b[0;34m)\u001b[0m\u001b[0;34m\u001b[0m\u001b[0;34m\u001b[0m\u001b[0m\n\u001b[1;32m   3680\u001b[0m             \u001b[0mself\u001b[0m\u001b[0;34m.\u001b[0m\u001b[0m_root\u001b[0m\u001b[0;34m.\u001b[0m\u001b[0mondestroy\u001b[0m\u001b[0;34m(\u001b[0m\u001b[0mself\u001b[0m\u001b[0;34m.\u001b[0m\u001b[0m_destroy\u001b[0m\u001b[0;34m)\u001b[0m\u001b[0;34m\u001b[0m\u001b[0;34m\u001b[0m\u001b[0m\n",
            "\u001b[0;32m/usr/lib/python3.7/turtle.py\u001b[0m in \u001b[0;36m__init__\u001b[0;34m(self)\u001b[0m\n\u001b[1;32m    432\u001b[0m     \u001b[0;34m\"\"\"Root class for Screen based on Tkinter.\"\"\"\u001b[0m\u001b[0;34m\u001b[0m\u001b[0;34m\u001b[0m\u001b[0m\n\u001b[1;32m    433\u001b[0m     \u001b[0;32mdef\u001b[0m \u001b[0m__init__\u001b[0m\u001b[0;34m(\u001b[0m\u001b[0mself\u001b[0m\u001b[0;34m)\u001b[0m\u001b[0;34m:\u001b[0m\u001b[0;34m\u001b[0m\u001b[0;34m\u001b[0m\u001b[0m\n\u001b[0;32m--> 434\u001b[0;31m         \u001b[0mTK\u001b[0m\u001b[0;34m.\u001b[0m\u001b[0mTk\u001b[0m\u001b[0;34m.\u001b[0m\u001b[0m__init__\u001b[0m\u001b[0;34m(\u001b[0m\u001b[0mself\u001b[0m\u001b[0;34m)\u001b[0m\u001b[0;34m\u001b[0m\u001b[0;34m\u001b[0m\u001b[0m\n\u001b[0m\u001b[1;32m    435\u001b[0m \u001b[0;34m\u001b[0m\u001b[0m\n\u001b[1;32m    436\u001b[0m     \u001b[0;32mdef\u001b[0m \u001b[0msetupcanvas\u001b[0m\u001b[0;34m(\u001b[0m\u001b[0mself\u001b[0m\u001b[0;34m,\u001b[0m \u001b[0mwidth\u001b[0m\u001b[0;34m,\u001b[0m \u001b[0mheight\u001b[0m\u001b[0;34m,\u001b[0m \u001b[0mcwidth\u001b[0m\u001b[0;34m,\u001b[0m \u001b[0mcheight\u001b[0m\u001b[0;34m)\u001b[0m\u001b[0;34m:\u001b[0m\u001b[0;34m\u001b[0m\u001b[0;34m\u001b[0m\u001b[0m\n",
            "\u001b[0;32m/usr/lib/python3.7/tkinter/__init__.py\u001b[0m in \u001b[0;36m__init__\u001b[0;34m(self, screenName, baseName, className, useTk, sync, use)\u001b[0m\n\u001b[1;32m   2021\u001b[0m                 \u001b[0mbaseName\u001b[0m \u001b[0;34m=\u001b[0m \u001b[0mbaseName\u001b[0m \u001b[0;34m+\u001b[0m \u001b[0mext\u001b[0m\u001b[0;34m\u001b[0m\u001b[0;34m\u001b[0m\u001b[0m\n\u001b[1;32m   2022\u001b[0m         \u001b[0minteractive\u001b[0m \u001b[0;34m=\u001b[0m \u001b[0;36m0\u001b[0m\u001b[0;34m\u001b[0m\u001b[0;34m\u001b[0m\u001b[0m\n\u001b[0;32m-> 2023\u001b[0;31m         \u001b[0mself\u001b[0m\u001b[0;34m.\u001b[0m\u001b[0mtk\u001b[0m \u001b[0;34m=\u001b[0m \u001b[0m_tkinter\u001b[0m\u001b[0;34m.\u001b[0m\u001b[0mcreate\u001b[0m\u001b[0;34m(\u001b[0m\u001b[0mscreenName\u001b[0m\u001b[0;34m,\u001b[0m \u001b[0mbaseName\u001b[0m\u001b[0;34m,\u001b[0m \u001b[0mclassName\u001b[0m\u001b[0;34m,\u001b[0m \u001b[0minteractive\u001b[0m\u001b[0;34m,\u001b[0m \u001b[0mwantobjects\u001b[0m\u001b[0;34m,\u001b[0m \u001b[0museTk\u001b[0m\u001b[0;34m,\u001b[0m \u001b[0msync\u001b[0m\u001b[0;34m,\u001b[0m \u001b[0muse\u001b[0m\u001b[0;34m)\u001b[0m\u001b[0;34m\u001b[0m\u001b[0;34m\u001b[0m\u001b[0m\n\u001b[0m\u001b[1;32m   2024\u001b[0m         \u001b[0;32mif\u001b[0m \u001b[0museTk\u001b[0m\u001b[0;34m:\u001b[0m\u001b[0;34m\u001b[0m\u001b[0;34m\u001b[0m\u001b[0m\n\u001b[1;32m   2025\u001b[0m             \u001b[0mself\u001b[0m\u001b[0;34m.\u001b[0m\u001b[0m_loadtk\u001b[0m\u001b[0;34m(\u001b[0m\u001b[0;34m)\u001b[0m\u001b[0;34m\u001b[0m\u001b[0;34m\u001b[0m\u001b[0m\n",
            "\u001b[0;31mTclError\u001b[0m: no display name and no $DISPLAY environment variable"
          ]
        }
      ]
    },
    {
      "cell_type": "markdown",
      "metadata": {
        "id": "Juq_PARPnA94"
      },
      "source": [
        "2\n",
        ". Faça modificações similares para permitir que o usuário mude a cor da tartaruga durante a execução do programa.\n",
        "   1. Faça o mesmo para a largura da caneta da tartaruga. *Dica: seu diálogo com o usuário retornará uma string, mas o método **pensize** espera que seu argumento seja um **int**. Então, você precisará converter a **string** em um **int** antes de passá-la para **pensize**.*  "
      ]
    },
    {
      "cell_type": "code",
      "metadata": {
        "id": "tFGd794iqoKT"
      },
      "source": [
        "import turtle\n",
        "jn = turtle.Screen()\n",
        "jn.bgcolor(str(input('Escreva uma cor de sua preferência: ')))      # Definir a cor de fundo da janela\n",
        "\n",
        "teca = turtle.Turtle()\n",
        "teca.color(str(input('Escreva uma cor de sua preferência: ')))             # Dizer à Teca para mudar sua cor (atributo)\n",
        "teca.pensize(3)               # Diga a Teca para ajustar a largura da caneta (atributo)\n",
        "\n",
        "teca.forward(50)\n",
        "teca.left(120)\n",
        "teca.forward(50)\n",
        "\n",
        "jn.mainloop() "
      ],
      "execution_count": null,
      "outputs": []
    },
    {
      "cell_type": "markdown",
      "metadata": {
        "id": "-RYPGbRDnPKl"
      },
      "source": [
        "3. Investiguem os métodos e tipos do módulo turtle;"
      ]
    },
    {
      "cell_type": "markdown",
      "metadata": {
        "id": "BZ_rKDG7nVwD"
      },
      "source": [
        "4. Desenhe um quadrado, usando a forma de tartaruga, ao invés da flecha, para desenhar.\n",
        "   1. mude a velocidade com que a tartaruga faz o desenho"
      ]
    },
    {
      "cell_type": "code",
      "metadata": {
        "id": "6uHtC838rCAI"
      },
      "source": [
        "import turtle\n",
        "jn = turtle.Screen()\n",
        "jn.bgcolor(str(input('Escreva uma cor de sua preferência: ')))      # Definir a cor de fundo da janela\n",
        "\n",
        "teca = turtle.Turtle()\n",
        "teca.shape('turtle')\n",
        "teca.speed(1)\n",
        "teca.color(str(input('Escreva uma cor de sua preferência: ')))             # Dizer à Teca para mudar sua cor (atributo)\n",
        "\n",
        "for i in [0,1,2,3]:\n",
        "    teca.forward(50)\n",
        "    teca.left(90)\n",
        "jn.mainloop()"
      ],
      "execution_count": null,
      "outputs": []
    },
    {
      "cell_type": "markdown",
      "metadata": {
        "id": "RfKdowMunZhd"
      },
      "source": [
        "5. Sabendo que o ângulo interno da ponta de uma estrela de 5 pontas é de 36 graus, desenhe uma estrela em uma janela.\n",
        "![title](https://github.com/malbouis/Python_intro/blob/master/aulas_2019/pics/estrela.png?raw=1)"
      ]
    },
    {
      "cell_type": "code",
      "metadata": {
        "id": "lU_lK5lKt6Um"
      },
      "source": [
        "import turtle\n",
        "jn = turtle.Screen()\n",
        "jn.bgcolor(str(input('Escreva uma cor de sua preferência: ')))      # Definir a cor de fundo da janela\n",
        "\n",
        "teca = turtle.Turtle()\n",
        "teca.shape('turtle')\n",
        "teca.speed(20)\n",
        "teca.color(str(input('Escreva uma cor de sua preferência: ')))             # Dizer à Teca para mudar sua cor (atributo)\n",
        "\n",
        "for i in [0,1,2,3,4]:\n",
        "    teca.forward(50)\n",
        "    teca.right(144)\n",
        "\n",
        "jn.mainloop()"
      ],
      "execution_count": null,
      "outputs": []
    },
    {
      "cell_type": "markdown",
      "metadata": {
        "id": "xbhO3Pz9neSU"
      },
      "source": [
        "6. Sabendo o ângulo interno da ponta de uma estrela, desenhe quatro estrelas em uma janela, com uma certa distância entre elas. Dica: use a função penup() e pendown() do módulo turtle"
      ]
    },
    {
      "cell_type": "code",
      "metadata": {
        "id": "BdS9uaEByxv4"
      },
      "source": [
        "import turtle\n",
        "jn = turtle.Screen()\n",
        "jn.bgcolor(str(input('Escreva uma cor de sua preferência: ')))      # Definir a cor de fundo da janela\n",
        "\n",
        "teca = turtle.Turtle()\n",
        "teca.shape('turtle')\n",
        "teca.speed(20)\n",
        "teca.color(str(input('Escreva uma cor de sua preferência: ')))             # Dizer à Teca para mudar sua cor (atributo)\n",
        "\n",
        "def star():\n",
        " \n",
        "  for i in [0,1,2,3,4]:\n",
        "    teca.forward(50)\n",
        "    teca.right(144)\n",
        "  teca.penup()\n",
        "  teca.forward(20)\n",
        "  teca.forward(40)\n",
        "  teca.pendown()\n",
        "  \n",
        "   \n",
        "teca.penup()\n",
        "teca.left(180)\n",
        "teca.forward(150)\n",
        "teca.right(180)\n",
        "teca.pendown()\n",
        "star()\n",
        "star()\n",
        "star()\n",
        "star()\n",
        "\n",
        "jn.mainloop()"
      ],
      "execution_count": null,
      "outputs": []
    },
    {
      "cell_type": "markdown",
      "metadata": {
        "id": "0kWa-O-E0mbt"
      },
      "source": [
        "### Preparação para os próximos capítulos"
      ]
    },
    {
      "cell_type": "markdown",
      "metadata": {
        "id": "Dny_nQAh1CtQ"
      },
      "source": [
        "1. Escreva uma função chamada `square`, que toma um parâmetro `t`, que é uma `Turtle`. Essa função deve usar o `turtle` para desenhar um quadrado. Escreva uma chamada de função que passe `joana` como argumento para `square` e rode o programa novamente. "
      ]
    },
    {
      "cell_type": "code",
      "metadata": {
        "id": "jOG3QR4I3kbQ"
      },
      "source": [
        "import turtle\n",
        "jn = turtle.Screen()\n",
        "\n",
        "def square(t):\n",
        "  for i in [0,1,2,3]:\n",
        "    t.forward(90)\n",
        "    t.left(90)\n",
        "\n",
        "cachassa = turtle.Turtle()\n",
        "square(cachassa)\n",
        "  \n",
        "\n",
        "jn.mainloop()"
      ],
      "execution_count": null,
      "outputs": []
    },
    {
      "cell_type": "code",
      "metadata": {
        "id": "PRii2PYs3orS"
      },
      "source": [
        "import turtle\n",
        "jn = turtle.Screen()\n",
        "\n",
        "def square(t):\n",
        "  for i in [0,1,2,3]:\n",
        "    t.forward(90)\n",
        "    t.left(90)\n",
        "\n",
        "joana = turtle.Turtle()\n",
        "square(joana)\n",
        "  \n",
        "\n",
        "jn.mainloop()"
      ],
      "execution_count": null,
      "outputs": []
    },
    {
      "cell_type": "markdown",
      "metadata": {
        "id": "xkpXdPTY1E0m"
      },
      "source": [
        "2. Adicione um outro parâmetro, chamado `length`, à função `square`. Modifique o corpo da função de tal forma que o comprimento dos lados do quadrado seja `length` e então modifique a chamada da função para que seja passado o segundo argumento. Rode o programa novamente. Teste o seu programa com diversos valores para `length`."
      ]
    },
    {
      "cell_type": "code",
      "metadata": {
        "id": "3qYSfrwn5V8f"
      },
      "source": [
        "import turtle\n",
        "jn = turtle.Screen()\n",
        "\n",
        "def square(t, lenght):\n",
        "  for i in [0,1,2,3]:\n",
        "    t.forward(lenght)\n",
        "    t.left(90)\n",
        "\n",
        "cachassa = turtle.Turtle()\n",
        "square(cachassa, 150)\n",
        "square(cachassa, 50)\n",
        "  \n",
        "\n",
        "jn.mainloop()"
      ],
      "execution_count": null,
      "outputs": []
    },
    {
      "cell_type": "markdown",
      "metadata": {
        "id": "eydN8d8v1ILM"
      },
      "source": [
        "3. Faça uma cópia da função `square` e mude o nome para `polygon`. Adicione um outro parâmetro chamado `n` e modifique o corpo da função para que ela desenhe um polígono regular de `n` lados. *Dica: Os ângulos externos de um polígono regular de `n` lados são de `360/n` graus.*  "
      ]
    },
    {
      "cell_type": "code",
      "metadata": {
        "id": "h-As83kw6u7z"
      },
      "source": [
        "import turtle\n",
        "jn = turtle.Screen()\n",
        "\n",
        "def poygon(t, lenght,n):\n",
        "  for i in range(n):\n",
        "    t.forward(lenght)\n",
        "    t.left(360/n)\n",
        "\n",
        "cachassa = turtle.Turtle()\n",
        "poygon(cachassa, 100, 5)\n",
        "\n",
        "jn.mainloop()"
      ],
      "execution_count": null,
      "outputs": []
    },
    {
      "cell_type": "markdown",
      "metadata": {
        "id": "vZ2pTgji1LQ-"
      },
      "source": [
        "4. Escreva uma função chamada `circle` que toma como argumento uma `Turtle`, `t`, e um raio, `r`, e desenha um círculo aproximado ao chamar a função `polygon` com `length` e número `n` de lados apropriados. Teste sua função com um intervalo de valores de `r`. Dica: Determine a circunferência do círculo e se certifique que `comprimento * n = circunferência`."
      ]
    },
    {
      "cell_type": "code",
      "metadata": {
        "id": "zssU3F4B_XCq"
      },
      "source": [
        "import turtle\n",
        "jn = turtle.Screen()\n",
        "\n",
        "def polygon(t, lenght,n):\n",
        "  for i in range(n):\n",
        "    t.forward(lenght)\n",
        "    t.left(360/n)\n",
        "\n",
        "def circle (t,r):\n",
        "  import math\n",
        "  n = 38\n",
        "  lenght = 2 * math.pi * r / n\n",
        "  polygon(t, lenght, n)\n",
        "  \n",
        "cachassa = turtle.Turtle()\n",
        "circle(cachassa, 95)\n",
        "\n",
        "jn.mainloop()"
      ],
      "execution_count": null,
      "outputs": []
    },
    {
      "cell_type": "markdown",
      "metadata": {
        "id": "EphuNxL91Rfm"
      },
      "source": [
        "5. Faça uma versão mais geral da função `circle`, chamada `arc`, que toma um parâmetro adicional, `angle`, que determina qual a fração do circulo a ser desenhada. `angle` está em unidades de graus, logo quando `angle=360`, a função `arc` deve desenhar um círculo completo."
      ]
    },
    {
      "cell_type": "code",
      "metadata": {
        "id": "FvKijjCnHSNq"
      },
      "source": [
        "import turtle\n",
        "jn = turtle.Screen()\n",
        "\n",
        "def porygon(t, n, length, angle):\n",
        "  for i in range(n):\n",
        "    t.fd(length)\n",
        "    t.lt(angle)  \n",
        "\n",
        "def arc(t, r, angle):\n",
        "  import math\n",
        "  arc_length = ((2 * math.pi * r * angle) / 360)\n",
        "  n = int(arc_length / 3) + 1\n",
        "  step_length = arc_length / n\n",
        "  step_angle = angle / n\n",
        "  porygon(t, n, step_length, step_angle)\n",
        "  \n",
        "  \n",
        "cachassa = turtle.Turtle()\n",
        "#poygon(cachassa, 1, 500)\n",
        "#circle(cachassa, 95)\n",
        "arc(cachassa, 50, 270)\n",
        "\n",
        "jn.mainloop()"
      ],
      "execution_count": null,
      "outputs": []
    }
  ]
}