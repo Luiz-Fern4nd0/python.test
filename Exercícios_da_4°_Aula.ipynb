{
  "nbformat": 4,
  "nbformat_minor": 0,
  "metadata": {
    "colab": {
      "name": "Exercícios da 4° Aula.ipynb",
      "provenance": [],
      "collapsed_sections": [],
      "include_colab_link": true
    },
    "kernelspec": {
      "name": "python3",
      "display_name": "Python 3"
    },
    "language_info": {
      "name": "python"
    }
  },
  "cells": [
    {
      "cell_type": "markdown",
      "metadata": {
        "id": "view-in-github",
        "colab_type": "text"
      },
      "source": [
        "<a href=\"https://colab.research.google.com/github/Luiz-Fern4nd0/python.test/blob/main/Exerc%C3%ADcios_da_4%C2%B0_Aula.ipynb\" target=\"_parent\"><img src=\"https://colab.research.google.com/assets/colab-badge.svg\" alt=\"Open In Colab\"/></a>"
      ]
    },
    {
      "cell_type": "markdown",
      "metadata": {
        "id": "jRXdmZ6SxQff"
      },
      "source": [
        "## i. Exercícios\n",
        "\n",
        "### 1. Escreva uma função com um valor de retorno que:\n",
        "  * tome como input dois argumentos;\n",
        "  * execute a soma dos dois parâmetros que foram passados como argumento e atribua o resultado a uma variável;\n",
        "  * tenha como valor de retorno o dobro da soma dos dois parâmetros."
      ]
    },
    {
      "cell_type": "code",
      "metadata": {
        "id": "_-CGOrn3DkbE",
        "colab": {
          "base_uri": "https://localhost:8080/"
        },
        "outputId": "8898362b-4633-4cfe-99cd-dc903682582d"
      },
      "source": [
        "# 2° Ponto:\n",
        "def questao1(l, f):\n",
        "  adicao = (l + f)\n",
        "  print('A Adição das funções são: {}'.format(adicao))\n",
        "\n",
        "questao1(int(input('Digite um número inteiro: ')), int(input('Digite um número inteiro: ')))"
      ],
      "execution_count": null,
      "outputs": [
        {
          "output_type": "stream",
          "name": "stdout",
          "text": [
            "Digite um número inteiro: 3\n",
            "Digite um número inteiro: 8\n",
            "A Adição das funções são: 11\n"
          ]
        }
      ]
    },
    {
      "cell_type": "code",
      "metadata": {
        "colab": {
          "base_uri": "https://localhost:8080/",
          "height": 69
        },
        "id": "a-z1q2XhELTc",
        "outputId": "3e88cb56-0488-427e-a9bb-d73e713d2def"
      },
      "source": [
        "# 3° Ponto:\n",
        "def dobrando(l,f):\n",
        "    o = (l + f)\n",
        "    return 'O Dobro da adição dos parâmetros são: {}'.format(o * 2)\n",
        "\n",
        "dobrando(int(input('Digite um número inteiro: ')), int(input('Digite um número inteiro: ')))"
      ],
      "execution_count": null,
      "outputs": [
        {
          "name": "stdout",
          "output_type": "stream",
          "text": [
            "Digite um número inteiro: 3\n",
            "Digite um número inteiro: 8\n"
          ]
        },
        {
          "output_type": "execute_result",
          "data": {
            "application/vnd.google.colaboratory.intrinsic+json": {
              "type": "string"
            },
            "text/plain": [
              "'O Dobro da adição dos parâmetros são: 22'"
            ]
          },
          "metadata": {},
          "execution_count": 47
        }
      ]
    },
    {
      "cell_type": "markdown",
      "metadata": {
        "id": "wSHnej42LJAF"
      },
      "source": [
        "### 2. Um objeto de função é um valor que você pode atribuir a uma variável ou passar como um argumento.\n"
      ]
    },
    {
      "cell_type": "code",
      "metadata": {
        "colab": {
          "base_uri": "https://localhost:8080/"
        },
        "id": "gdQD1OGRdv06",
        "outputId": "f3ef110b-654e-448b-8002-8157f23c9416"
      },
      "source": [
        "def do_twice(l):\n",
        "    l()\n",
        "    l()\n",
        "\n",
        "def print_l_f_s_o():\n",
        "    print('lfso')\n",
        "\n",
        "do_twice(print_l_f_s_o)"
      ],
      "execution_count": null,
      "outputs": [
        {
          "output_type": "stream",
          "name": "stdout",
          "text": [
            "lfso\n",
            "lfso\n"
          ]
        }
      ]
    },
    {
      "cell_type": "markdown",
      "metadata": {
        "id": "t3WZLkwFdo-Y"
      },
      "source": [
        "## ii. Para este exercício :\n",
        "\n",
        "### a. Digite este exemplo em um script e teste-o."
      ]
    },
    {
      "cell_type": "code",
      "metadata": {
        "colab": {
          "base_uri": "https://localhost:8080/"
        },
        "id": "qRdgIqbkMDc0",
        "outputId": "2643ba11-3a3c-47ae-d112-2372a68bd8a9"
      },
      "source": [
        "'''\n",
        "def meuverso(palavras):\n",
        "    print(palavras)\n",
        "    print(palavras)\n",
        "    \n",
        "def minhacancao(verso1, verso2):\n",
        "    meuverso(verso1)\n",
        "    meuverso(verso2)\n",
        "    \n",
        "minhacancao(\"lalarí\",\"lalará\")\n",
        "'''\n",
        "\n",
        "def Trovadismo(prosas):\n",
        "    print(prosas)\n",
        "    print(prosas)\n",
        "    \n",
        "def proesas(linha1, linha2):\n",
        "    Trovadismo(linha1)\n",
        "    Trovadismo(linha2)\n",
        "    \n",
        "proesas(\"minha nada,\",\"mole vida.\")"
      ],
      "execution_count": null,
      "outputs": [
        {
          "output_type": "stream",
          "name": "stdout",
          "text": [
            "minha nada,\n",
            "minha nada,\n",
            "mole vida.\n",
            "mole vida.\n"
          ]
        }
      ]
    },
    {
      "cell_type": "markdown",
      "metadata": {
        "id": "Y8QLW0XSK239"
      },
      "source": [
        "### b. Modifique do_twice para que sejam necessários dois argumentos, um objeto de função f e um valor x, e chame a função duas vezes, passando o valor como um argumento."
      ]
    },
    {
      "cell_type": "code",
      "metadata": {
        "id": "8_IoOFnjuhDU",
        "colab": {
          "base_uri": "https://localhost:8080/"
        },
        "outputId": "cad1b851-95c0-4ee6-ab64-4d9ea9d92979"
      },
      "source": [
        " '''\n",
        "def do_twice (f): \n",
        "    f () \n",
        "    f ()\n",
        "\n",
        "def print_spam (): \n",
        "    print('spam') \n",
        "\n",
        "do_twice (print_spam)\n",
        "'''\n",
        "\n",
        "def do_twicebr(l,f): \n",
        "    l (f) \n",
        "    l (f)\n",
        "\n",
        "do_twicebr(print, 38)"
      ],
      "execution_count": null,
      "outputs": [
        {
          "output_type": "stream",
          "name": "stdout",
          "text": [
            "38\n",
            "38\n"
          ]
        }
      ]
    },
    {
      "cell_type": "markdown",
      "metadata": {
        "id": "EXibIxFqLB80"
      },
      "source": [
        "### c. Escreva uma versão mais geral de print_spam, chamada print_twice, que use uma string como parâmetro e imprima duas vezes."
      ]
    },
    {
      "cell_type": "code",
      "metadata": {
        "id": "bVYMIoWNuhjW",
        "colab": {
          "base_uri": "https://localhost:8080/"
        },
        "outputId": "6b5fc50f-cbf5-4d0f-bee8-3637d11cefc0"
      },
      "source": [
        "def print_twice (s):\n",
        "    print(s)\n",
        "    print(s)\n",
        "\n",
        "print_twice(83)"
      ],
      "execution_count": null,
      "outputs": [
        {
          "output_type": "stream",
          "name": "stdout",
          "text": [
            "83\n",
            "83\n"
          ]
        }
      ]
    },
    {
      "cell_type": "markdown",
      "metadata": {
        "id": "qSpk09a7LLKw"
      },
      "source": [
        "### d. Use a versão modificada (no item b) de do_twice para chamar print_twice duas vezes, passando 'spam' como um argumento."
      ]
    },
    {
      "cell_type": "code",
      "metadata": {
        "id": "pR9DWB4SuiX_",
        "colab": {
          "base_uri": "https://localhost:8080/"
        },
        "outputId": "e264ff7d-3a46-4d32-b6e9-bbc3ed09273f"
      },
      "source": [
        "def do_twiceobr(o,w): \n",
        "    o (w) \n",
        "    o (w)\n",
        "\n",
        "def print_twice (s):\n",
        "    print(s)\n",
        "    print(s)\n",
        "\n",
        "do_twiceobr(print_twice, 'spam')"
      ],
      "execution_count": null,
      "outputs": [
        {
          "output_type": "stream",
          "name": "stdout",
          "text": [
            "spam\n",
            "spam\n",
            "spam\n",
            "spam\n"
          ]
        }
      ]
    },
    {
      "cell_type": "markdown",
      "metadata": {
        "id": "zunHthTSMVKF"
      },
      "source": [
        "### e. Defina uma nova função chamada do_four que recebe um objeto de função e um valor e chama a função quatro vezes, passando o valor como um parâmetro. Deve haver apenas duas declarações no corpo desta função, e não quatro."
      ]
    },
    {
      "cell_type": "code",
      "metadata": {
        "id": "MiJMhEfEujWS",
        "colab": {
          "base_uri": "https://localhost:8080/"
        },
        "outputId": "bf9ada65-3ff0-4178-f301-e63be77fb1cb"
      },
      "source": [
        "def do_fourbr(j,z): \n",
        "    j (z + 7) \n",
        "    j (z)\n",
        "\n",
        "def print_do_four (o):\n",
        "    print(o + 4)\n",
        "    print(o)\n",
        "\n",
        "do_fourbr(print_do_four, 1111)"
      ],
      "execution_count": null,
      "outputs": [
        {
          "output_type": "stream",
          "name": "stdout",
          "text": [
            "1122\n",
            "1118\n",
            "1115\n",
            "1111\n"
          ]
        }
      ]
    }
  ]
}