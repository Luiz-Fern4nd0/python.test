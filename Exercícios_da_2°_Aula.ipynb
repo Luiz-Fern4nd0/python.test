{
  "nbformat": 4,
  "nbformat_minor": 0,
  "metadata": {
    "colab": {
      "name": "Exercícios da 2° Aula.ipynb",
      "provenance": [],
      "authorship_tag": "ABX9TyPZIO1DzxKdKssnv7iacYPl",
      "include_colab_link": true
    },
    "kernelspec": {
      "name": "python3",
      "display_name": "Python 3"
    },
    "language_info": {
      "name": "python"
    }
  },
  "cells": [
    {
      "cell_type": "markdown",
      "metadata": {
        "id": "view-in-github",
        "colab_type": "text"
      },
      "source": [
        "<a href=\"https://colab.research.google.com/github/Luiz-Fern4nd0/python.test/blob/main/Exerc%C3%ADcios_da_2%C2%B0_Aula.ipynb\" target=\"_parent\"><img src=\"https://colab.research.google.com/assets/colab-badge.svg\" alt=\"Open In Colab\"/></a>"
      ]
    },
    {
      "cell_type": "markdown",
      "metadata": {
        "id": "x9H06K5z_ELG"
      },
      "source": [
        "## Exercícios\n",
        "\n",
        "### Exercício 1:\n",
        "Considere as seguintes declarações de atribuições:\n",
        "\n",
        "   $\\star$ largura = 17 \n",
        "\n",
        "   $\\star$ altura = 12.0\n",
        "\n",
        "   $\\star$ delimitador = \".\"\n",
        "   \n",
        "Para cada uma das expressões a seguir, escreva o valor das expressões e o tipo (do valor da expressão):\n",
        "1. largura/2\n",
        "1. largura/2.0\n",
        "1. altura/3\n",
        "1. 1 + 2 * 5\n",
        "1. delimitador*5\n",
        "\n",
        "Use o interpretador de python para verificar suas respostas."
      ]
    },
    {
      "cell_type": "code",
      "metadata": {
        "colab": {
          "base_uri": "https://localhost:8080/"
        },
        "id": "czPQl4rN_vFd",
        "outputId": "acf49c5c-729b-4844-97a1-88a7a8c8ece4"
      },
      "source": [
        "largura = 17\n",
        "altura = 12.0\n",
        "delimitador = \".\"\n",
        "\n",
        "#1\n",
        "l = largura/2\n",
        "print(l)\n",
        "print(type(l))\n",
        "#2\n",
        "l1 = largura/2.0\n",
        "print(l1)\n",
        "print(type(l1))\n",
        "#3\n",
        "a = altura/3\n",
        "print(a)\n",
        "print(type(a))\n",
        "#4\n",
        "L = 1 + 2*5\n",
        "print(L)\n",
        "print(type(L))\n",
        "#5\n",
        "F = delimitador*5\n",
        "print(F)\n",
        "print(type(F))"
      ],
      "execution_count": 7,
      "outputs": [
        {
          "output_type": "stream",
          "name": "stdout",
          "text": [
            "8.5\n",
            "<class 'float'>\n",
            "8.5\n",
            "<class 'float'>\n",
            "4.0\n",
            "<class 'float'>\n",
            "11\n",
            "<class 'int'>\n",
            ".....\n",
            "<class 'str'>\n"
          ]
        }
      ]
    },
    {
      "cell_type": "markdown",
      "metadata": {
        "id": "oINnBrHrCwi6"
      },
      "source": [
        "### Exercício 2:\n",
        "O volume de uma esfera de raio *r* é $\\dfrac{4}{3} \\pi r^{3}$.\n",
        "\n",
        "Qual é o volume de uma esfera de raio 5?"
      ]
    },
    {
      "cell_type": "code",
      "metadata": {
        "colab": {
          "base_uri": "https://localhost:8080/"
        },
        "id": "zVvOSFMfC6SO",
        "outputId": "02d382fb-4b9d-4717-b1c4-58b62a44236f"
      },
      "source": [
        "import math\n",
        "r = 4/3 * math.pi * 5**3\n",
        "print(r)"
      ],
      "execution_count": 9,
      "outputs": [
        {
          "output_type": "stream",
          "name": "stdout",
          "text": [
            "523.5987755982989\n"
          ]
        }
      ]
    },
    {
      "cell_type": "markdown",
      "metadata": {
        "id": "gm0n45WNDoEQ"
      },
      "source": [
        "### Exercício 3:\n",
        "Suponha que o preço de um livro seja  24.95 reais, porém as livrarias têm desconto de 40%. Os custos de envio são de 3.00 reais para o primeiro livro e 0.75 reais para os livros adicionais. Qual é o custo total da compra de 60 livros? "
      ]
    },
    {
      "cell_type": "code",
      "metadata": {
        "colab": {
          "base_uri": "https://localhost:8080/"
        },
        "id": "ZqGD2OlAD57Z",
        "outputId": "354443ad-202b-4f19-c588-ca36670f6704"
      },
      "source": [
        "l = 24.95\n",
        "de = 60/100\n",
        "\n",
        "c1 = 3 #R$\n",
        "cn = 59*0.75 #R$\n",
        "\n",
        "#Valor de 1 livro:\n",
        "C1 = l*de\n",
        "print(C1)\n",
        "print(type(C1))\n",
        "#Valor de 60 livros\n",
        "C2 = l*de*60\n",
        "print(C2)\n",
        "#Valor total:\n",
        "C = C2 + c1 + cn\n",
        "print('{:.2f} reais'.format(C))"
      ],
      "execution_count": 26,
      "outputs": [
        {
          "output_type": "stream",
          "name": "stdout",
          "text": [
            "14.969999999999999\n",
            "<class 'float'>\n",
            "898.1999999999999\n",
            "945.45 reais\n"
          ]
        }
      ]
    },
    {
      "cell_type": "markdown",
      "metadata": {
        "id": "lcPMyJAYJGy9"
      },
      "source": [
        "### Exercício 4:\n",
        "Um laser vermelho (com comprimento de onda $\\lambda = 632,8$ nm) incide em uma fenda dupla produzindo um padrão de interferência com franjas claras e escuras, em um anteparo situado a uma distância D = 1,98 m da fenda. Calcule a distância $\\Delta y$ entre dois máximos consecutivos de interferência. Considere o espaçamento entre as fendas, $d$, como sendo igual a 0,250 mm.\n",
        "*Dica: a distância entre dois máximos de interferência consecutivos pode ser aproximada por $\\Delta y = \\dfrac{\\lambda D}{d}$.*"
      ]
    },
    {
      "cell_type": "code",
      "metadata": {
        "colab": {
          "base_uri": "https://localhost:8080/"
        },
        "id": "mbsehZWsJlHG",
        "outputId": "831eeddc-c666-4230-b8f2-449010c789c7"
      },
      "source": [
        "la = 632.8 #nm(10^-9)\n",
        "D = 1.98 #m(10^0)\n",
        "d = 0.250 #mm(10^-3)\n",
        "\n",
        "y = ((la*D)/d)\n",
        "print(y,'micrometro')"
      ],
      "execution_count": 35,
      "outputs": [
        {
          "output_type": "stream",
          "name": "stdout",
          "text": [
            "5011.776 micrometro\n"
          ]
        }
      ]
    }
  ]
}